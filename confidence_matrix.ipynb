{
 "cells": [
  {
   "cell_type": "markdown",
   "metadata": {},
   "source": [
    "<font size=\"+0.5\">Notebook for plotting confusion matrix and print precision and recall metrics<font>"
   ]
  },
  {
   "cell_type": "code",
   "execution_count": null,
   "metadata": {},
   "outputs": [],
   "source": [
    "import itertools\n",
    "import matplotlib.pyplot as plt\n",
    "import numpy as np\n",
    "import os\n",
    "import pandas as pd\n",
    "import pickle\n",
    "\n",
    "from scipy.signal import savgol_filter\n",
    "from sklearn.metrics import confusion_matrix, precision_score, recall_score"
   ]
  },
  {
   "cell_type": "markdown",
   "metadata": {},
   "source": [
    "<font size=\"+0.5\">Load scaler and encoder with which data was transformed when model was training<font>"
   ]
  },
  {
   "cell_type": "code",
   "execution_count": null,
   "metadata": {},
   "outputs": [],
   "source": [
    "with open('models/x_scaler.pcl', \"rb\") as file:\n",
    "    x_scaler = pickle.load(file)\n",
    "\n",
    "with open('models/y_scaler.pcl', \"rb\") as file:\n",
    "    y_scaler = pickle.load(file)\n",
    "\n",
    "with open('models/z_scaler.pcl', \"rb\") as file:\n",
    "    z_scaler = pickle.load(file)\n",
    "    \n",
    "with open(\"models/encoder.pcl\", \"rb\") as file:\n",
    "        encoder = pickle.load(file)"
   ]
  },
  {
   "cell_type": "code",
   "execution_count": null,
   "metadata": {},
   "outputs": [],
   "source": [
    "label_dict = {\"Aggressive acceleration\": \"critical\",\n",
    "             \"Aggressive breaking\": \"critical\", \n",
    "             \"Aggressive left lane change\": \"significant\",\n",
    "             \"Aggressive left turn\": \"significant\",\n",
    "             \"Aggressive right lane change\": \"significant\",\n",
    "             \"Aggressive right turn\": \"significant\",\n",
    "             \"Non-aggressive event\": \"negligible\"}"
   ]
  },
  {
   "cell_type": "code",
   "execution_count": null,
   "metadata": {},
   "outputs": [],
   "source": [
    "def change_label(row):\n",
    "    return label_dict[row['event']]"
   ]
  },
  {
   "cell_type": "code",
   "execution_count": null,
   "metadata": {},
   "outputs": [],
   "source": [
    "# Function for plotting confusion matrix\n",
    "def plot_confusion_matrix(cm, title='Confusion matrix', cmap=plt.cm.Blues):\n",
    "    plt.imshow(cm, interpolation='nearest', cmap=cmap)\n",
    "    plt.title(title)\n",
    "    plt.colorbar()\n",
    "    tick_marks = np.arange(len(encoder.classes_))\n",
    "    plt.xticks(tick_marks, encoder.classes_, rotation=45)\n",
    "    plt.yticks(tick_marks, encoder.classes_)\n",
    "    \n",
    "    thresh = cm.max() / 2.\n",
    "    for i, j in itertools.product(range(cm.shape[0]), range(cm.shape[1])):\n",
    "        plt.text(j, i, format(cm[i, j], '.1f'),\n",
    "                 horizontalalignment=\"center\",\n",
    "                 color=\"white\" if cm[i, j] > thresh else \"black\")\n",
    "    \n",
    "    plt.tight_layout()\n",
    "    plt.ylabel('True label')\n",
    "    plt.xlabel('Predicted label')"
   ]
  },
  {
   "cell_type": "code",
   "execution_count": null,
   "metadata": {},
   "outputs": [],
   "source": [
    "# Function for print statistic in simple approach: using x, y, z axis as features\n",
    "def print_statistic(data, model_file, model_name, linear=False, gyroscope=False):\n",
    "    \n",
    "    # Load model\n",
    "    with open(os.path.join(\"models\", f\"{model_file}.pcl\"), \"rb\") as file:\n",
    "        model = pickle.load(file)\n",
    "    \n",
    "    print(f\"Model: {model_name}\")\n",
    "    \n",
    "    # Transform target values\n",
    "    data['event_label'] = data.apply(change_label, axis=1)\n",
    "    \n",
    "    # Filter accelerometer x, y, z, values\n",
    "    data['x_accelerometer_fil'] = savgol_filter(data['x_accelerometer'].values, 51, 5)\n",
    "    data['y_accelerometer_fil'] = savgol_filter(data['y_accelerometer'].values, 51, 5)\n",
    "    data['z_accelerometer_fil'] = savgol_filter(data['z_accelerometer'].values, 51, 5)\n",
    "    \n",
    "    # Add acceleration feature\n",
    "    data['acceleration_fil'] = np.sqrt(data['x_accelerometer_fil'] ** 2 + data['y_accelerometer_fil'] ** 2 + data['z_accelerometer_fil'] ** 2)\n",
    "    \n",
    "    if linear:\n",
    "        # Scale accelerometer x, y, z, values and acceleration feature\n",
    "        data['x_accelerometer_fil'] = x_scaler.transform(data['x_accelerometer_fil'].values.reshape(-1, 1))\n",
    "        data['y_accelerometer_fil'] = y_scaler.transform(data['y_accelerometer_fil'].values.reshape(-1, 1))\n",
    "        data['z_accelerometer_fil'] = z_scaler.transform(data['z_accelerometer_fil'].values.reshape(-1, 1))\n",
    "        data['acceleration_fil'] = np.sqrt(\n",
    "            data['x_accelerometer_fil'] ** 2 + data['y_accelerometer_fil'] ** 2 + data[\n",
    "                'z_accelerometer_fil'] ** 2)\n",
    "    \n",
    "    # Create list with columns which will be used for predicting\n",
    "    valid_columns = [\"x_accelerometer_fil\", \"y_accelerometer_fil\", \"z_accelerometer_fil\", \"acceleration_fil\"]\n",
    "    \n",
    "    if gyroscope:\n",
    "        # Filter gyroscope x, y, z, values\n",
    "        data['x_gyroscope_fil'] = savgol_filter(data['x_gyroscope'].values, 31, 4)\n",
    "        data['y_gyroscope_fil'] = savgol_filter(data['y_gyroscope'].values, 31, 4)\n",
    "        data['z_gyroscope_fil'] = savgol_filter(data['z_gyroscope'].values, 31, 4)\n",
    "        valid_columns += [\"x_gyroscope_fil\", \"y_gyroscope_fil\", \"z_gyroscope_fil\"]\n",
    "    \n",
    "    # Predict\n",
    "    y_pred = encoder.inverse_transform(model.predict(data[valid_columns]))\n",
    "    \n",
    "    # Calculate confusion matrix\n",
    "    cm = confusion_matrix(data[\"event_label\"].values, y_pred)\n",
    "    cm = cm.astype('float') / cm.sum(axis=1)[:, np.newaxis]\n",
    "    \n",
    "    # Calculate precision by each class\n",
    "    precision_scores = precision_score(encoder.transform(data[\"event_label\"].values), encoder.transform(y_pred), average=None)\n",
    "    for i, clasS in enumerate(encoder.classes_):\n",
    "        print(f\"Precision score for class {clasS} is {precision_scores[i]}\")\n",
    "    \n",
    "    print()\n",
    "    \n",
    "    # Calculate recall by each class\n",
    "    recall_scores = recall_score(encoder.transform(data[\"event_label\"].values), encoder.transform(y_pred), average=None)\n",
    "    for i, clasS in enumerate(encoder.classes_):\n",
    "        print(f\"Recall score for class {clasS} is {recall_scores[i]}\")\n",
    "    \n",
    "    # Plot confusion matrix\n",
    "    plt.figure(figsize=(7, 7))\n",
    "    plot_confusion_matrix(cm)"
   ]
  },
  {
   "cell_type": "code",
   "execution_count": null,
   "metadata": {},
   "outputs": [],
   "source": [
    "val = pd.read_csv('data/val_filtered_accelerometer.csv')\n",
    "print_statistic(val, \"svc_time\", \"SVC\", linear=True)"
   ]
  },
  {
   "cell_type": "code",
   "execution_count": null,
   "metadata": {},
   "outputs": [],
   "source": [
    "val = pd.read_csv('data/val_filtered_accelerometer.csv')\n",
    "print_statistic(val, \"lightgbm_time\", \"LIGHTGBM\")"
   ]
  },
  {
   "cell_type": "code",
   "execution_count": null,
   "metadata": {},
   "outputs": [],
   "source": [
    "val_acc = pd.read_csv('data/val_filtered_accelerometer.csv')\n",
    "val_gyr = pd.read_csv('data/val_filtered_gyroscope.csv')\n",
    "val = pd.concat([val_acc, val_gyr.drop([\"event\"], axis=1)], axis=1)\n",
    "print_statistic(val, \"svc_gyroscope_time\", \"SVC\", linear=True, gyroscope=True)"
   ]
  },
  {
   "cell_type": "code",
   "execution_count": null,
   "metadata": {},
   "outputs": [],
   "source": [
    "val_acc = pd.read_csv('data/val_filtered_accelerometer.csv')\n",
    "val_gyr = pd.read_csv('data/val_filtered_gyroscope.csv')\n",
    "val = pd.concat([val_acc, val_gyr.drop([\"event\"], axis=1)], axis=1)\n",
    "print_statistic(val, \"GRADIENTBC_gyroscope_time\", \"GRADIENT BOOSTING\", gyroscope=True)"
   ]
  },
  {
   "cell_type": "code",
   "execution_count": null,
   "metadata": {},
   "outputs": [],
   "source": []
  }
 ],
 "metadata": {
  "kernelspec": {
   "display_name": "Python 3",
   "language": "python",
   "name": "python3"
  },
  "language_info": {
   "codemirror_mode": {
    "name": "ipython",
    "version": 3
   },
   "file_extension": ".py",
   "mimetype": "text/x-python",
   "name": "python",
   "nbconvert_exporter": "python",
   "pygments_lexer": "ipython3",
   "version": "3.6.9"
  }
 },
 "nbformat": 4,
 "nbformat_minor": 4
}
