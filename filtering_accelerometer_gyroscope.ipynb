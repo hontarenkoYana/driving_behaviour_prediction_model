{
 "cells": [
  {
   "cell_type": "markdown",
   "metadata": {},
   "source": [
    "<font size=\"+0.5\">Load libraries and data.</font>"
   ]
  },
  {
   "cell_type": "code",
   "execution_count": null,
   "metadata": {},
   "outputs": [],
   "source": [
    "# Ignore warnings \n",
    "import warnings\n",
    "from sklearn.exceptions import ConvergenceWarning\n",
    "warnings.filterwarnings(action='ignore', category=ConvergenceWarning)"
   ]
  },
  {
   "cell_type": "code",
   "execution_count": null,
   "metadata": {},
   "outputs": [],
   "source": [
    "import lightgbm as lgb\n",
    "import matplotlib.pyplot as plt\n",
    "import numpy as np\n",
    "import pandas as pd\n",
    "import pickle\n",
    "\n",
    "from scipy.signal import savgol_filter"
   ]
  },
  {
   "cell_type": "code",
   "execution_count": null,
   "metadata": {},
   "outputs": [],
   "source": [
    "data1 = pd.read_csv('data/data_accelerometer_gyroscope_16.csv')\n",
    "data2 = pd.read_csv('data/data_accelerometer_gyroscope_17.csv')\n",
    "data3 = pd.read_csv('data/data_accelerometer_gyroscope_20.csv')\n",
    "data4 = pd.read_csv('data/data_accelerometer_gyroscope_21.csv')"
   ]
  },
  {
   "cell_type": "markdown",
   "metadata": {},
   "source": [
    "# <center> Data filtering"
   ]
  },
  {
   "cell_type": "markdown",
   "metadata": {},
   "source": [
    "### <center> Gyroscope data filtering"
   ]
  },
  {
   "cell_type": "markdown",
   "metadata": {},
   "source": [
    "<font size=\"+0.5\">Look at both curves: initial and filtered and find those <i><b>window lenght</b></i> which filtered curva describe data in the best way.</font>"
   ]
  },
  {
   "cell_type": "code",
   "execution_count": null,
   "metadata": {},
   "outputs": [],
   "source": [
    "window_lengths = np.arange(11, 151, 10)\n",
    "polyorder = 3"
   ]
  },
  {
   "cell_type": "code",
   "execution_count": null,
   "metadata": {
    "scrolled": true
   },
   "outputs": [],
   "source": [
    "for window_length in window_lengths:\n",
    "    \n",
    "    data1['x_gyroscope_fil'] = savgol_filter(data1['x_gyroscope'].values, window_length, polyorder)\n",
    "    data1['y_gyroscope_fil'] = savgol_filter(data1['y_gyroscope'].values, window_length, polyorder)\n",
    "    data1['z_gyroscope_fil'] = savgol_filter(data1['z_gyroscope'].values, window_length, polyorder)\n",
    "    \n",
    "    fig, ax = plt.subplots(1, 3, figsize=(10, 5))\n",
    "    \n",
    "    ax[0].plot(data1[:500]['x_gyroscope'].values, label='x gyroscope')\n",
    "    ax[0].plot(data1[:500]['x_gyroscope_fil'].values, label='x gyroscope filtered')\n",
    "    ax[0].legend();\n",
    "    \n",
    "    ax[1].plot(data1[:500]['y_gyroscope'].values, label='y gyroscope')\n",
    "    ax[1].plot(data1[:500]['y_gyroscope_fil'].values, label='y gyroscope filtered')\n",
    "    ax[1].legend();\n",
    "    \n",
    "    ax[2].plot(data1[:500]['z_gyroscope'].values, label='z gyroscope')\n",
    "    ax[2].plot(data1[:500]['z_gyroscope_fil'].values, label='z gyroscope filtered')\n",
    "    plt.suptitle(f\"Window length: {window_length}\", fontsize=20)\n",
    "    "
   ]
  },
  {
   "cell_type": "markdown",
   "metadata": {},
   "source": [
    "<font size=\"+0.5\">Look at both curves: initial and filtered and find those <i><b>polyorder</b></i> which filtered curve describe data in the best way.</font>\n",
    "\n"
   ]
  },
  {
   "cell_type": "code",
   "execution_count": null,
   "metadata": {},
   "outputs": [],
   "source": [
    "polyorders = np.arange(2, 15, 1)\n",
    "window_length = 31"
   ]
  },
  {
   "cell_type": "code",
   "execution_count": null,
   "metadata": {
    "scrolled": true
   },
   "outputs": [],
   "source": [
    "for polyorder in polyorders:\n",
    "    \n",
    "    data1['x_gyroscope_fil'] = savgol_filter(data1['x_gyroscope'].values, window_length, polyorder)\n",
    "    data1['y_gyroscope_fil'] = savgol_filter(data1['y_gyroscope'].values, window_length, polyorder)\n",
    "    data1['z_gyroscope_fil'] = savgol_filter(data1['z_gyroscope'].values, window_length, polyorder)\n",
    "    \n",
    "    fig, ax = plt.subplots(1, 3, figsize=(10, 5))\n",
    "    \n",
    "    ax[0].plot(data1[:500]['x_gyroscope'].values, label='x gyroscope')\n",
    "    ax[0].plot(data1[:500]['x_gyroscope_fil'].values, label='x gyroscope filtered')\n",
    "    ax[0].legend();\n",
    "    \n",
    "    ax[1].plot(data1[:500]['y_gyroscope'].values, label='y gyroscope')\n",
    "    ax[1].plot(data1[:500]['y_gyroscope_fil'].values, label='y gyroscope filtered')\n",
    "    ax[1].legend();\n",
    "    \n",
    "    ax[2].plot(data1[:500]['z_gyroscope'].values, label='z gyroscope')\n",
    "    ax[2].plot(data1[:500]['z_gyroscope_fil'].values, label='z gyroscope filtered')\n",
    "    plt.suptitle(f\"Window length: {window_length}\", fontsize=20)\n",
    "    \n",
    "    "
   ]
  },
  {
   "cell_type": "code",
   "execution_count": null,
   "metadata": {},
   "outputs": [],
   "source": [
    "polyorder = 4"
   ]
  },
  {
   "cell_type": "markdown",
   "metadata": {},
   "source": [
    "<font size=\"+0.5\">Use selected parameters for filtering accelerometer data.</font>"
   ]
  },
  {
   "cell_type": "code",
   "execution_count": null,
   "metadata": {},
   "outputs": [],
   "source": [
    "data1['x_gyroscope_fil'] = savgol_filter(data1['x_gyroscope'].values, window_length, polyorder)\n",
    "data1['y_gyroscope_fil'] = savgol_filter(data1['y_gyroscope'].values, window_length, polyorder)\n",
    "data1['z_gyroscope_fil'] = savgol_filter(data1['z_gyroscope'].values, window_length, polyorder)"
   ]
  },
  {
   "cell_type": "code",
   "execution_count": null,
   "metadata": {},
   "outputs": [],
   "source": [
    "data2['x_gyroscope_fil'] = savgol_filter(data2['x_gyroscope'].values, window_length, polyorder)\n",
    "data2['y_gyroscope_fil'] = savgol_filter(data2['y_gyroscope'].values, window_length, polyorder)\n",
    "data2['z_gyroscope_fil'] = savgol_filter(data2['z_gyroscope'].values, window_length, polyorder)"
   ]
  },
  {
   "cell_type": "code",
   "execution_count": null,
   "metadata": {},
   "outputs": [],
   "source": [
    "data3['x_gyroscope_fil'] = savgol_filter(data3['x_gyroscope'].values, window_length, polyorder)\n",
    "data3['y_gyroscope_fil'] = savgol_filter(data3['y_gyroscope'].values, window_length, polyorder)\n",
    "data3['z_gyroscope_fil'] = savgol_filter(data3['z_gyroscope'].values, window_length, polyorder)"
   ]
  },
  {
   "cell_type": "code",
   "execution_count": null,
   "metadata": {},
   "outputs": [],
   "source": [
    "data4['x_gyroscope_fil'] = savgol_filter(data4['x_gyroscope'].values, window_length, polyorder)\n",
    "data4['y_gyroscope_fil'] = savgol_filter(data4['y_gyroscope'].values, window_length, polyorder)\n",
    "data4['z_gyroscope_fil'] = savgol_filter(data4['z_gyroscope'].values, window_length, polyorder)"
   ]
  },
  {
   "cell_type": "markdown",
   "metadata": {},
   "source": [
    "<font size=\"+0.5\">Concatenate all data.</font>"
   ]
  },
  {
   "cell_type": "code",
   "execution_count": null,
   "metadata": {},
   "outputs": [],
   "source": [
    "data = pd.concat([data1, data2, data3, data4])"
   ]
  },
  {
   "cell_type": "code",
   "execution_count": null,
   "metadata": {},
   "outputs": [],
   "source": [
    "data = data.reset_index()\n",
    "data = data.drop(['index'], axis = 1)\n",
    "data = data[[\"x_gyroscope\", \"x_gyroscope_fil\", \"y_gyroscope\", \"y_gyroscope_fil\", \"z_gyroscope\", \"z_gyroscope_fil\", \"event\"]]"
   ]
  },
  {
   "cell_type": "markdown",
   "metadata": {},
   "source": [
    "<font size=\"+0.5\">Plots for showing difference in the initial and filtered values.</font>"
   ]
  },
  {
   "cell_type": "code",
   "execution_count": null,
   "metadata": {},
   "outputs": [],
   "source": [
    "fig, ax = plt.subplots(1, 3, figsize=(15, 5))\n",
    "    \n",
    "ax[0].plot(data[:500]['x_gyroscope'].values, label='x gyroscope')\n",
    "ax[0].plot(data[:500]['x_gyroscope_fil'].values, label='x gyroscope filtered')\n",
    "ax[0].legend();\n",
    "\n",
    "ax[1].plot(data[:500]['y_gyroscope'].values, label='y gyroscope')\n",
    "ax[1].plot(data[:500]['y_gyroscope_fil'].values, label='y gyroscope filtered')\n",
    "ax[1].legend();\n",
    "\n",
    "ax[2].plot(data[:500]['z_gyroscope'].values, label='z gyroscope')\n",
    "ax[2].plot(data[:500]['z_gyroscope_fil'].values, label='z gyroscope filtered')\n",
    "ax[2].legend();\n",
    "\n",
    "plt.show();"
   ]
  },
  {
   "cell_type": "code",
   "execution_count": null,
   "metadata": {},
   "outputs": [],
   "source": [
    "data.to_csv(\"data/filtering_gyroscope.csv\", index=False)"
   ]
  },
  {
   "cell_type": "code",
   "execution_count": null,
   "metadata": {},
   "outputs": [],
   "source": []
  }
 ],
 "metadata": {
  "kernelspec": {
   "display_name": "Python 3",
   "language": "python",
   "name": "python3"
  },
  "language_info": {
   "codemirror_mode": {
    "name": "ipython",
    "version": 3
   },
   "file_extension": ".py",
   "mimetype": "text/x-python",
   "name": "python",
   "nbconvert_exporter": "python",
   "pygments_lexer": "ipython3",
   "version": "3.7.3"
  }
 },
 "nbformat": 4,
 "nbformat_minor": 4
}
