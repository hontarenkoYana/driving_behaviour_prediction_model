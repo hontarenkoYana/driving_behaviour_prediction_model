{
 "cells": [
  {
   "cell_type": "markdown",
   "metadata": {},
   "source": [
    "<font size=\"+0.5\">Load libraries and data.</font>"
   ]
  },
  {
   "cell_type": "code",
   "execution_count": 1,
   "metadata": {},
   "outputs": [],
   "source": [
    "# Ignore warnings \n",
    "import warnings\n",
    "from sklearn.exceptions import ConvergenceWarning\n",
    "warnings.filterwarnings(action='ignore', category=ConvergenceWarning)"
   ]
  },
  {
   "cell_type": "code",
   "execution_count": 2,
   "metadata": {},
   "outputs": [],
   "source": [
    "import lightgbm as lgb\n",
    "import matplotlib.pyplot as plt\n",
    "import numpy as np\n",
    "import pandas as pd\n",
    "import pickle\n",
    "\n",
    "from sklearn.ensemble import RandomForestClassifier, GradientBoostingClassifier\n",
    "from sklearn.linear_model import LogisticRegression, PassiveAggressiveClassifier\n",
    "from sklearn.metrics import accuracy_score, make_scorer\n",
    "from sklearn.model_selection import train_test_split, GridSearchCV\n",
    "from sklearn.neural_network import MLPClassifier\n",
    "from sklearn.preprocessing import LabelEncoder, StandardScaler, Normalizer, MinMaxScaler\n",
    "from sklearn.svm import SVC\n",
    "from sklearn.tree import DecisionTreeClassifier\n",
    "from sklearn.utils.class_weight import compute_class_weight"
   ]
  },
  {
   "cell_type": "code",
   "execution_count": 3,
   "metadata": {},
   "outputs": [],
   "source": [
    "data_acc = pd.read_csv('data/filtering_accelerometer.csv')\n",
    "data_gyr = pd.read_csv('data/filtering_gyroscope.csv')\n",
    "data = pd.concat([data_acc, data_gyr.drop([\"event\"], axis=1)], axis=1)"
   ]
  },
  {
   "cell_type": "markdown",
   "metadata": {},
   "source": [
    "# <center> Data preprocessing"
   ]
  },
  {
   "cell_type": "markdown",
   "metadata": {},
   "source": [
    "<font size=\"+0.5\">Label encoding.</font>"
   ]
  },
  {
   "cell_type": "markdown",
   "metadata": {},
   "source": [
    "<font size=\"+0.5\">Divide data into 3 categories then encode them.</font>"
   ]
  },
  {
   "cell_type": "code",
   "execution_count": 4,
   "metadata": {},
   "outputs": [],
   "source": [
    "label_dict = {\"Aggressive acceleration\": \"critical\",\n",
    "         \"Aggressive breaking\": \"critical\", \n",
    "         \"Aggressive left lane change\": \"significant\",\n",
    "         \"Aggressive left turn\": \"significant\",\n",
    "         \"Aggressive right lane change\": \"significant\",\n",
    "         \"Aggressive right turn\": \"significant\",\n",
    "         \"Non-aggressive event\": \"negligible\"}"
   ]
  },
  {
   "cell_type": "code",
   "execution_count": 5,
   "metadata": {},
   "outputs": [],
   "source": [
    "def change_label(row):\n",
    "    return label_dict[row['event']]"
   ]
  },
  {
   "cell_type": "code",
   "execution_count": 6,
   "metadata": {},
   "outputs": [],
   "source": [
    "data['event_label'] = data.apply(change_label, axis=1)"
   ]
  },
  {
   "cell_type": "code",
   "execution_count": 7,
   "metadata": {},
   "outputs": [
    {
     "data": {
      "text/html": [
       "<div>\n",
       "<style scoped>\n",
       "    .dataframe tbody tr th:only-of-type {\n",
       "        vertical-align: middle;\n",
       "    }\n",
       "\n",
       "    .dataframe tbody tr th {\n",
       "        vertical-align: top;\n",
       "    }\n",
       "\n",
       "    .dataframe thead th {\n",
       "        text-align: right;\n",
       "    }\n",
       "</style>\n",
       "<table border=\"1\" class=\"dataframe\">\n",
       "  <thead>\n",
       "    <tr style=\"text-align: right;\">\n",
       "      <th></th>\n",
       "      <th>x_accelerometer</th>\n",
       "      <th>x_accelerometer_fil</th>\n",
       "      <th>y_accelerometer</th>\n",
       "      <th>y_accelerometer_fil</th>\n",
       "      <th>z_accelerometer</th>\n",
       "      <th>z_accelerometer_fil</th>\n",
       "      <th>event</th>\n",
       "      <th>x_gyroscope</th>\n",
       "      <th>x_gyroscope_fil</th>\n",
       "      <th>y_gyroscope</th>\n",
       "      <th>y_gyroscope_fil</th>\n",
       "      <th>z_gyroscope</th>\n",
       "      <th>z_gyroscope_fil</th>\n",
       "      <th>event_label</th>\n",
       "    </tr>\n",
       "  </thead>\n",
       "  <tbody>\n",
       "    <tr>\n",
       "      <th>0</th>\n",
       "      <td>0.039886</td>\n",
       "      <td>0.112064</td>\n",
       "      <td>0.085735</td>\n",
       "      <td>0.099807</td>\n",
       "      <td>-0.093183</td>\n",
       "      <td>-0.115853</td>\n",
       "      <td>Non-aggressive event</td>\n",
       "      <td>0.004470</td>\n",
       "      <td>-0.004287</td>\n",
       "      <td>0.009398</td>\n",
       "      <td>0.007023</td>\n",
       "      <td>-0.002575</td>\n",
       "      <td>0.000821</td>\n",
       "      <td>negligible</td>\n",
       "    </tr>\n",
       "    <tr>\n",
       "      <th>1</th>\n",
       "      <td>0.141136</td>\n",
       "      <td>0.078692</td>\n",
       "      <td>0.180840</td>\n",
       "      <td>0.141873</td>\n",
       "      <td>-0.101005</td>\n",
       "      <td>-0.118248</td>\n",
       "      <td>Non-aggressive event</td>\n",
       "      <td>-0.018279</td>\n",
       "      <td>-0.004187</td>\n",
       "      <td>0.007015</td>\n",
       "      <td>0.005186</td>\n",
       "      <td>0.007037</td>\n",
       "      <td>0.003043</td>\n",
       "      <td>negligible</td>\n",
       "    </tr>\n",
       "    <tr>\n",
       "      <th>2</th>\n",
       "      <td>0.048727</td>\n",
       "      <td>0.054416</td>\n",
       "      <td>0.133385</td>\n",
       "      <td>0.169328</td>\n",
       "      <td>-0.183827</td>\n",
       "      <td>-0.120858</td>\n",
       "      <td>Non-aggressive event</td>\n",
       "      <td>0.001196</td>\n",
       "      <td>-0.003719</td>\n",
       "      <td>-0.000405</td>\n",
       "      <td>0.003630</td>\n",
       "      <td>0.001179</td>\n",
       "      <td>0.004593</td>\n",
       "      <td>negligible</td>\n",
       "    </tr>\n",
       "    <tr>\n",
       "      <th>3</th>\n",
       "      <td>0.095980</td>\n",
       "      <td>0.037768</td>\n",
       "      <td>0.250396</td>\n",
       "      <td>0.185177</td>\n",
       "      <td>-0.111719</td>\n",
       "      <td>-0.123490</td>\n",
       "      <td>Non-aggressive event</td>\n",
       "      <td>-0.004479</td>\n",
       "      <td>-0.003007</td>\n",
       "      <td>0.000623</td>\n",
       "      <td>0.002345</td>\n",
       "      <td>0.013621</td>\n",
       "      <td>0.005579</td>\n",
       "      <td>negligible</td>\n",
       "    </tr>\n",
       "    <tr>\n",
       "      <th>4</th>\n",
       "      <td>0.021541</td>\n",
       "      <td>0.027424</td>\n",
       "      <td>0.098266</td>\n",
       "      <td>0.192126</td>\n",
       "      <td>-0.187710</td>\n",
       "      <td>-0.125977</td>\n",
       "      <td>Non-aggressive event</td>\n",
       "      <td>0.006300</td>\n",
       "      <td>-0.002162</td>\n",
       "      <td>-0.011864</td>\n",
       "      <td>0.001319</td>\n",
       "      <td>0.003479</td>\n",
       "      <td>0.006099</td>\n",
       "      <td>negligible</td>\n",
       "    </tr>\n",
       "  </tbody>\n",
       "</table>\n",
       "</div>"
      ],
      "text/plain": [
       "   x_accelerometer  x_accelerometer_fil  y_accelerometer  y_accelerometer_fil  \\\n",
       "0         0.039886             0.112064         0.085735             0.099807   \n",
       "1         0.141136             0.078692         0.180840             0.141873   \n",
       "2         0.048727             0.054416         0.133385             0.169328   \n",
       "3         0.095980             0.037768         0.250396             0.185177   \n",
       "4         0.021541             0.027424         0.098266             0.192126   \n",
       "\n",
       "   z_accelerometer  z_accelerometer_fil                 event  x_gyroscope  \\\n",
       "0        -0.093183            -0.115853  Non-aggressive event     0.004470   \n",
       "1        -0.101005            -0.118248  Non-aggressive event    -0.018279   \n",
       "2        -0.183827            -0.120858  Non-aggressive event     0.001196   \n",
       "3        -0.111719            -0.123490  Non-aggressive event    -0.004479   \n",
       "4        -0.187710            -0.125977  Non-aggressive event     0.006300   \n",
       "\n",
       "   x_gyroscope_fil  y_gyroscope  y_gyroscope_fil  z_gyroscope  \\\n",
       "0        -0.004287     0.009398         0.007023    -0.002575   \n",
       "1        -0.004187     0.007015         0.005186     0.007037   \n",
       "2        -0.003719    -0.000405         0.003630     0.001179   \n",
       "3        -0.003007     0.000623         0.002345     0.013621   \n",
       "4        -0.002162    -0.011864         0.001319     0.003479   \n",
       "\n",
       "   z_gyroscope_fil event_label  \n",
       "0         0.000821  negligible  \n",
       "1         0.003043  negligible  \n",
       "2         0.004593  negligible  \n",
       "3         0.005579  negligible  \n",
       "4         0.006099  negligible  "
      ]
     },
     "execution_count": 7,
     "metadata": {},
     "output_type": "execute_result"
    }
   ],
   "source": [
    "data.head()"
   ]
  },
  {
   "cell_type": "code",
   "execution_count": 8,
   "metadata": {},
   "outputs": [],
   "source": [
    "encoder = LabelEncoder()\n",
    "data['event_label_num'] = encoder.fit_transform(data['event_label'])"
   ]
  },
  {
   "cell_type": "code",
   "execution_count": 9,
   "metadata": {},
   "outputs": [],
   "source": [
    "with open(\"models/encoder.pcl\", \"wb\") as file:\n",
    "    pickle.dump(encoder, file)"
   ]
  },
  {
   "cell_type": "markdown",
   "metadata": {},
   "source": [
    "<font size=\"+0.5\">Look at histogramm of the target class.</font>"
   ]
  },
  {
   "cell_type": "code",
   "execution_count": 10,
   "metadata": {},
   "outputs": [
    {
     "data": {
      "image/png": "[encoded data removed]",
      "text/plain": [
       "<Figure size 432x288 with 1 Axes>"
      ]
     },
     "metadata": {
      "needs_background": "light"
     },
     "output_type": "display_data"
    }
   ],
   "source": [
    "data['event_label'].hist();"
   ]
  },
  {
   "cell_type": "markdown",
   "metadata": {},
   "source": [
    "<font size=\"+0.5\">Data normalisation.</font>"
   ]
  },
  {
   "cell_type": "markdown",
   "metadata": {},
   "source": [
    "<font size=\"+0.5\">Linear models have to work with normilized data.</font>"
   ]
  },
  {
   "cell_type": "code",
   "execution_count": 11,
   "metadata": {},
   "outputs": [],
   "source": [
    "normalizer = StandardScaler()\n",
    "\n",
    "data['x_accelerometer_fil_scaled'] = normalizer.fit_transform(data['x_accelerometer_fil'].values.reshape(-1, 1))\n",
    "with open(\"models/x_scaler.pcl\", \"wb\") as file:\n",
    "    pickle.dump(normalizer, file)\n",
    "data['y_accelerometer_fil_scaled'] = normalizer.fit_transform(data['y_accelerometer_fil'].values.reshape(-1, 1))\n",
    "with open(\"models/y_scaler.pcl\", \"wb\") as file:\n",
    "    pickle.dump(normalizer, file)\n",
    "data['z_accelerometer_fil_scaled'] = normalizer.fit_transform(data['z_accelerometer_fil'].values.reshape(-1, 1))\n",
    "with open(\"models/z_scaler.pcl\", \"wb\") as file:\n",
    "    pickle.dump(normalizer, file)"
   ]
  },
  {
   "cell_type": "code",
   "execution_count": 12,
   "metadata": {},
   "outputs": [],
   "source": [
    "normalizer = MinMaxScaler()\n",
    "data['x_gyroscope_fil_scaled'] = normalizer.fit_transform(data['x_gyroscope_fil'].values.reshape(-1, 1))\n",
    "data['y_gyroscope_fil_scaled'] = normalizer.fit_transform(data['y_gyroscope_fil'].values.reshape(-1, 1))\n",
    "data['z_gyroscope_fil_scaled'] = normalizer.fit_transform(data['z_gyroscope_fil'].values.reshape(-1, 1))"
   ]
  },
  {
   "cell_type": "markdown",
   "metadata": {},
   "source": [
    "<font size=\"+0.5\">Plots for showing difference in the initial, filtered  and normilized values.</font>"
   ]
  },
  {
   "cell_type": "code",
   "execution_count": 13,
   "metadata": {},
   "outputs": [
    {
     "data": {
      "image/png": "[encoded data removed]",
      "text/plain": [
       "<Figure size 1080x360 with 3 Axes>"
      ]
     },
     "metadata": {
      "needs_background": "light"
     },
     "output_type": "display_data"
    }
   ],
   "source": [
    "fig, ax = plt.subplots(1, 3, figsize=(15, 5))\n",
    "    \n",
    "ax[0].plot(data[:500]['x_accelerometer'].values, label='x accelerometer')\n",
    "ax[0].plot(data[:500]['x_accelerometer_fil'].values, label='x accelerometer filtered')\n",
    "ax[0].plot(data[:500]['x_accelerometer_fil_scaled'].values, label='accelerometer x normalizing')\n",
    "ax[0].legend();\n",
    "\n",
    "ax[1].plot(data[:500]['y_accelerometer'].values, label='y accelerometer')\n",
    "ax[1].plot(data[:500]['y_accelerometer_fil'].values, label='y accelerometer filtered')\n",
    "ax[1].plot(data[:500]['y_accelerometer_fil_scaled'].values, label='accelerometer y normalizing')\n",
    "ax[1].legend();\n",
    "\n",
    "ax[2].plot(data[:500]['z_accelerometer'].values, label='z accelerometer')\n",
    "ax[2].plot(data[:500]['z_accelerometer_fil'].values, label='z accelerometer filtered')\n",
    "ax[2].plot(data[:500]['z_accelerometer_fil_scaled'].values, label='accelerometer z normalizing')\n",
    "ax[2].legend();\n",
    "\n",
    "plt.title('Filtered accelerometer axis normalizing', fontsize=20)\n",
    "plt.show();"
   ]
  },
  {
   "cell_type": "markdown",
   "metadata": {},
   "source": [
    "# <center> Feature engineering"
   ]
  },
  {
   "cell_type": "markdown",
   "metadata": {},
   "source": [
    "<font size=\"+0.5\">Add acceleration feature</font>"
   ]
  },
  {
   "cell_type": "code",
   "execution_count": 14,
   "metadata": {},
   "outputs": [],
   "source": [
    "data['acceleration'] = np.sqrt(data['x_accelerometer']**2 + data['y_accelerometer']**2 + data['z_accelerometer']**2)\n",
    "data['acceleration_fil'] = np.sqrt(data['x_accelerometer_fil']**2 + data['y_accelerometer_fil']**2 + data['z_accelerometer_fil']**2)\n",
    "data['acceleration_fil_scaled'] = np.sqrt(data['x_accelerometer_fil_scaled']**2 + data['y_accelerometer_fil_scaled']**2 + data['z_accelerometer_fil_scaled']**2)"
   ]
  },
  {
   "cell_type": "markdown",
   "metadata": {},
   "source": [
    "# <center> Training and evaluating"
   ]
  },
  {
   "cell_type": "markdown",
   "metadata": {},
   "source": [
    "### <center> Linear models"
   ]
  },
  {
   "cell_type": "markdown",
   "metadata": {},
   "source": [
    "<font size=\"+0.5\">Split data into train and test</font>"
   ]
  },
  {
   "cell_type": "code",
   "execution_count": 15,
   "metadata": {},
   "outputs": [],
   "source": [
    "x = data[['x_accelerometer_fil_scaled', 'y_accelerometer_fil_scaled', 'z_accelerometer_fil_scaled', 'acceleration_fil_scaled', \"x_gyroscope_fil_scaled\", \"y_gyroscope_fil_scaled\", \"z_gyroscope_fil_scaled\"]]\n",
    "y = data['event_label_num']\n",
    "\n",
    "x_train, x_val, y_train, y_val = train_test_split(x, y, train_size=0.8, random_state = 42, shuffle = True)"
   ]
  },
  {
   "cell_type": "markdown",
   "metadata": {},
   "source": [
    "<font size=\"+0.5\">On the histogramm of the target class we see that it isn't balanced. We can't use cutting or dublicating for balancing data, so we dicided to use class weight.</font>"
   ]
  },
  {
   "cell_type": "code",
   "execution_count": 16,
   "metadata": {},
   "outputs": [],
   "source": [
    "class_weight = dict(zip(np.unique(y), compute_class_weight('balanced', np.unique(y), y)))"
   ]
  },
  {
   "cell_type": "code",
   "execution_count": 17,
   "metadata": {},
   "outputs": [
    {
     "name": "stdout",
     "output_type": "stream",
     "text": [
      "Train accuracy: 0.609094982078853\n",
      "Validation accuracy: 0.6171070309001343\n"
     ]
    }
   ],
   "source": [
    "clf_lr = LogisticRegression(class_weight=class_weight, random_state = 42)\n",
    "clf_lr.fit(x_train, y_train)\n",
    "lr_predict_val = clf_lr.predict(x_val)\n",
    "lr_predict_train = clf_lr.predict(x_train)\n",
    "print(f\"Train accuracy: {accuracy_score(lr_predict_train, y_train)}\")\n",
    "print(f\"Validation accuracy: {accuracy_score(lr_predict_val, y_val)}\")"
   ]
  },
  {
   "cell_type": "code",
   "execution_count": 18,
   "metadata": {},
   "outputs": [
    {
     "name": "stdout",
     "output_type": "stream",
     "text": [
      "Train accuracy: 0.5632840501792115\n",
      "Validation accuracy: 0.5660546350201523\n"
     ]
    }
   ],
   "source": [
    "clf_pac = PassiveAggressiveClassifier(class_weight=class_weight, random_state=42)\n",
    "clf_pac.fit(x_train, y_train)\n",
    "pac_predict_val = clf_pac.predict(x_val)\n",
    "pac_predict_train = clf_pac.predict(x_train)\n",
    "print(f\"Train accuracy: {accuracy_score(pac_predict_train, y_train)}\")\n",
    "print(f\"Validation accuracy: {accuracy_score(pac_predict_val, y_val)}\")"
   ]
  },
  {
   "cell_type": "code",
   "execution_count": 19,
   "metadata": {},
   "outputs": [
    {
     "name": "stdout",
     "output_type": "stream",
     "text": [
      "Train accuracy: 0.775649641577061\n",
      "Validation accuracy: 0.7774294670846394\n"
     ]
    }
   ],
   "source": [
    "clf_svc = SVC(class_weight=class_weight, random_state=42)\n",
    "clf_svc.fit(x_train, y_train)\n",
    "svc_predict_val = clf_svc.predict(x_val)\n",
    "svc_predict_train = clf_svc.predict(x_train)\n",
    "print(f\"Train accuracy: {accuracy_score(svc_predict_train, y_train)}\")\n",
    "print(f\"Validation accuracy: {accuracy_score(svc_predict_val, y_val)}\")"
   ]
  },
  {
   "cell_type": "code",
   "execution_count": 20,
   "metadata": {},
   "outputs": [
    {
     "name": "stdout",
     "output_type": "stream",
     "text": [
      "Train accuracy: 0.926747311827957\n",
      "Validation accuracy: 0.9135691894312584\n"
     ]
    }
   ],
   "source": [
    "clf_pcp = MLPClassifier(random_state=42, solver='lbfgs', max_iter=1000, hidden_layer_sizes=50)\n",
    "clf_pcp.fit(x_train, y_train)\n",
    "pcp_predict_val = clf_pcp.predict(x_val)\n",
    "pcp_predict_train = clf_pcp.predict(x_train)\n",
    "print(f\"Train accuracy: {accuracy_score(pcp_predict_train, y_train)}\")\n",
    "print(f\"Validation accuracy: {accuracy_score(pcp_predict_val, y_val)}\")"
   ]
  },
  {
   "cell_type": "markdown",
   "metadata": {},
   "source": [
    "<font size=\"+0.5\">Use GridSearch for find better parameters for best linear models.</font>"
   ]
  },
  {
   "cell_type": "code",
   "execution_count": 21,
   "metadata": {},
   "outputs": [
    {
     "name": "stdout",
     "output_type": "stream",
     "text": [
      "Fitting 5 folds for each of 15 candidates, totalling 75 fits\n"
     ]
    },
    {
     "name": "stderr",
     "output_type": "stream",
     "text": [
      "[Parallel(n_jobs=-1)]: Using backend LokyBackend with 6 concurrent workers.\n",
      "[Parallel(n_jobs=-1)]: Done  38 tasks      | elapsed:   12.5s\n",
      "[Parallel(n_jobs=-1)]: Done  75 out of  75 | elapsed:   24.4s finished\n"
     ]
    }
   ],
   "source": [
    "param_svc = {\n",
    "    \"C\": np.arange(18, 21, 1),\n",
    "    'gamma': np.arange(12, 17, 1)\n",
    "            }\n",
    "clf_grid = GridSearchCV(SVC(class_weight=class_weight, random_state=42), param_svc, scoring=make_scorer(accuracy_score), verbose=1, n_jobs=-1)\n",
    "clf_grid.fit(x_train, y_train);"
   ]
  },
  {
   "cell_type": "code",
   "execution_count": 22,
   "metadata": {},
   "outputs": [
    {
     "name": "stdout",
     "output_type": "stream",
     "text": [
      "Train accuracy: 0.9823028673835126\n",
      "Validation accuracy: 0.9444693237796686\n"
     ]
    }
   ],
   "source": [
    "best_svc_estimator = clf_grid.best_estimator_\n",
    "grid_predict_val = best_svc_estimator.predict(x_val)\n",
    "grid_predict_train = best_svc_estimator.predict(x_train)\n",
    "print(f\"Train accuracy: {accuracy_score(grid_predict_train, y_train)}\")\n",
    "print(f\"Validation accuracy: {accuracy_score(grid_predict_val, y_val)}\")"
   ]
  },
  {
   "cell_type": "code",
   "execution_count": 23,
   "metadata": {},
   "outputs": [
    {
     "name": "stdout",
     "output_type": "stream",
     "text": [
      "Fitting 5 folds for each of 36 candidates, totalling 180 fits\n"
     ]
    },
    {
     "name": "stderr",
     "output_type": "stream",
     "text": [
      "[Parallel(n_jobs=-1)]: Using backend LokyBackend with 6 concurrent workers.\n",
      "[Parallel(n_jobs=-1)]: Done  38 tasks      | elapsed:  2.1min\n",
      "[Parallel(n_jobs=-1)]: Done 180 out of 180 | elapsed:  9.4min finished\n"
     ]
    }
   ],
   "source": [
    "param_mlp = {\n",
    "    \"hidden_layer_sizes\": np.arange(50, 200, 50),\n",
    "    \"activation\": [\"logistic\", \"relu\"],\n",
    "    \"solver\": [\"adam\", \"lbfgs\"],\n",
    "    \"alpha\": [1e-4, 1e-3, 1e-2]}\n",
    "clf_grid = GridSearchCV(MLPClassifier(random_state=42, max_iter=1000), param_mlp, scoring=make_scorer(accuracy_score), verbose=1, n_jobs=-1)\n",
    "clf_grid.fit(x_train, y_train);"
   ]
  },
  {
   "cell_type": "code",
   "execution_count": 24,
   "metadata": {},
   "outputs": [
    {
     "name": "stdout",
     "output_type": "stream",
     "text": [
      "Train accuracy: 0.9498207885304659\n",
      "Validation accuracy: 0.9328257948947604\n"
     ]
    }
   ],
   "source": [
    "best_mlp_estimator = clf_grid.best_estimator_\n",
    "grid_predict_val = best_mlp_estimator.predict(x_val)\n",
    "grid_predict_train = best_mlp_estimator.predict(x_train)\n",
    "print(f\"Train accuracy: {accuracy_score(grid_predict_train, y_train)}\")\n",
    "print(f\"Validation accuracy: {accuracy_score(grid_predict_val, y_val)}\")"
   ]
  },
  {
   "cell_type": "markdown",
   "metadata": {},
   "source": [
    "### <center> Non-linear models"
   ]
  },
  {
   "cell_type": "markdown",
   "metadata": {},
   "source": [
    "<font size=\"+0.5\">Split data into train and test</font>"
   ]
  },
  {
   "cell_type": "code",
   "execution_count": 25,
   "metadata": {},
   "outputs": [],
   "source": [
    "x = data[['x_accelerometer_fil', 'y_accelerometer_fil', 'z_accelerometer_fil', 'acceleration_fil', \"x_gyroscope_fil\", \"y_gyroscope_fil\", \"z_gyroscope_fil\"]]\n",
    "y = data['event_label_num']\n",
    "x_train, x_val, y_train, y_val = train_test_split(x, y, train_size=0.8, random_state = 42, shuffle = True)"
   ]
  },
  {
   "cell_type": "code",
   "execution_count": 26,
   "metadata": {},
   "outputs": [
    {
     "name": "stdout",
     "output_type": "stream",
     "text": [
      "Train accuracy: 0.9155465949820788\n",
      "Validation accuracy: 0.8871473354231975\n"
     ]
    }
   ],
   "source": [
    "clf_gbc = GradientBoostingClassifier()\n",
    "clf_gbc.fit(x_train, y_train)\n",
    "gbc_predict_val = clf_gbc.predict(x_val)\n",
    "gbc_predict_train = clf_gbc.predict(x_train)\n",
    "print(f\"Train accuracy: {accuracy_score(gbc_predict_train, y_train)}\")\n",
    "print(f\"Validation accuracy: {accuracy_score(gbc_predict_val, y_val)}\")"
   ]
  },
  {
   "cell_type": "code",
   "execution_count": 27,
   "metadata": {},
   "outputs": [
    {
     "name": "stdout",
     "output_type": "stream",
     "text": [
      "Train accuracy: 1.0\n",
      "Validation accuracy: 0.9695476936856248\n"
     ]
    }
   ],
   "source": [
    "clf_rfc = RandomForestClassifier(n_estimators=100, class_weight=class_weight, random_state=42)\n",
    "clf_rfc.fit(x_train, y_train)\n",
    "rfc_predict_val = clf_rfc.predict(x_val)\n",
    "rfc_predict_train = clf_rfc.predict(x_train)\n",
    "print(f\"Train accuracy: {accuracy_score(rfc_predict_train, y_train)}\")\n",
    "print(f\"Validation accuracy: {accuracy_score(rfc_predict_val, y_val)}\")"
   ]
  },
  {
   "cell_type": "code",
   "execution_count": 28,
   "metadata": {},
   "outputs": [
    {
     "name": "stdout",
     "output_type": "stream",
     "text": [
      "Train accuracy: 1.0\n",
      "Validation accuracy: 0.9202866099417824\n"
     ]
    }
   ],
   "source": [
    "clf_dtc = DecisionTreeClassifier(random_state=42, class_weight=class_weight)\n",
    "clf_dtc.fit(x_train, y_train)\n",
    "dtc_predict_val = clf_dtc.predict(x_val)\n",
    "dtc_predict_train = clf_dtc.predict(x_train)\n",
    "print(f\"Train accuracy: {accuracy_score(dtc_predict_train, y_train)}\")\n",
    "print(f\"Validation accuracy: {accuracy_score(dtc_predict_val, y_val)}\")"
   ]
  },
  {
   "cell_type": "markdown",
   "metadata": {},
   "source": [
    "<font size=\"+0.5\">Use GridSearch for find better parameters for best non-linear model.</font>"
   ]
  },
  {
   "cell_type": "code",
   "execution_count": 29,
   "metadata": {},
   "outputs": [
    {
     "name": "stdout",
     "output_type": "stream",
     "text": [
      "Fitting 5 folds for each of 20 candidates, totalling 100 fits\n"
     ]
    },
    {
     "name": "stderr",
     "output_type": "stream",
     "text": [
      "[Parallel(n_jobs=-1)]: Using backend LokyBackend with 6 concurrent workers.\n",
      "[Parallel(n_jobs=-1)]: Done  38 tasks      | elapsed:   13.4s\n",
      "[Parallel(n_jobs=-1)]: Done 100 out of 100 | elapsed:   32.4s finished\n"
     ]
    }
   ],
   "source": [
    "param_forest = {\"n_estimators\": np.arange(180, 220, 10),\n",
    "                \"max_depth\": np.arange(36, 46, 2)}\n",
    "clf_grid = GridSearchCV(RandomForestClassifier(n_jobs=-1, class_weight=class_weight, random_state=42), param_forest, scoring=make_scorer(accuracy_score), verbose=1, n_jobs=-1)\n",
    "clf_grid.fit(x_train, y_train);"
   ]
  },
  {
   "cell_type": "code",
   "execution_count": 30,
   "metadata": {},
   "outputs": [
    {
     "name": "stdout",
     "output_type": "stream",
     "text": [
      "Train accuracy: 1.0\n",
      "Validation accuracy: 0.9699955217196596\n"
     ]
    }
   ],
   "source": [
    "best_forest_estimator = clf_grid.best_estimator_\n",
    "grid_predict_val = best_forest_estimator.predict(x_val)\n",
    "grid_predict_train = best_forest_estimator.predict(x_train)\n",
    "print(f\"Train accuracy: {accuracy_score(grid_predict_train, y_train)}\")\n",
    "print(f\"Validation accuracy: {accuracy_score(grid_predict_val, y_val)}\")"
   ]
  },
  {
   "cell_type": "markdown",
   "metadata": {},
   "source": [
    "<font size=\"+0.5\">In the end we dicided to check work of the boosting for this task.</font>"
   ]
  },
  {
   "cell_type": "code",
   "execution_count": 31,
   "metadata": {},
   "outputs": [],
   "source": [
    "clf_lgb = lgb.LGBMClassifier(\n",
    "    n_estimators = 800,\n",
    "    seed = 42,\n",
    "    learning_rate = 0.015,\n",
    "    metric = 'multi_logloss',\n",
    "    objective = 'multiclass',\n",
    "    early_stopping = 20)"
   ]
  },
  {
   "cell_type": "code",
   "execution_count": 32,
   "metadata": {},
   "outputs": [
    {
     "name": "stderr",
     "output_type": "stream",
     "text": [
      "/home/slelelko/PycharmProjects/car-driving-anomalies/venv/lib/python3.7/site-packages/lightgbm/engine.py:153: UserWarning: Found `early_stopping` in params. Will use it instead of argument\n",
      "  warnings.warn(\"Found `{}` in params. Will use it instead of argument\".format(alias))\n"
     ]
    },
    {
     "name": "stdout",
     "output_type": "stream",
     "text": [
      "Train accuracy: 0.9959677419354839\n",
      "Validation accuracy: 0.961486789072996\n"
     ]
    }
   ],
   "source": [
    "clf_lgb.fit(X=x_train, y=y_train, eval_set=(x_val, y_val), verbose=0)\n",
    "lgb_predict_val = clf_lgb.predict(x_val)\n",
    "lgb_predict_train = clf_lgb.predict(x_train)\n",
    "print(f\"Train accuracy: {accuracy_score(lgb_predict_train, y_train)}\")\n",
    "print(f\"Validation accuracy: {accuracy_score(lgb_predict_val, y_val)}\")"
   ]
  },
  {
   "cell_type": "code",
   "execution_count": 33,
   "metadata": {},
   "outputs": [],
   "source": [
    "with open(\"models/random_forest.pcl\", \"wb\") as file:\n",
    "    pickle.dump(best_forest_estimator, file)"
   ]
  },
  {
   "cell_type": "code",
   "execution_count": 34,
   "metadata": {},
   "outputs": [],
   "source": [
    "with open(\"models/svc.pcl\", \"wb\") as file:\n",
    "    pickle.dump(best_svc_estimator, file)"
   ]
  },
  {
   "cell_type": "code",
   "execution_count": null,
   "metadata": {},
   "outputs": [],
   "source": []
  }
 ],
 "metadata": {
  "kernelspec": {
   "display_name": "Python 3",
   "language": "python",
   "name": "python3"
  },
  "language_info": {
   "codemirror_mode": {
    "name": "ipython",
    "version": 3
   },
   "file_extension": ".py",
   "mimetype": "text/x-python",
   "name": "python",
   "nbconvert_exporter": "python",
   "pygments_lexer": "ipython3",
   "version": "3.7.3"
  }
 },
 "nbformat": 4,
 "nbformat_minor": 4
}
