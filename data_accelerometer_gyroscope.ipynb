{
 "cells": [
  {
   "cell_type": "code",
   "execution_count": 10,
   "metadata": {},
   "outputs": [],
   "source": [
    "import pandas as pd\n",
    "import os\n",
    "\n",
    "from datetime import datetime"
   ]
  },
  {
   "cell_type": "code",
   "execution_count": 11,
   "metadata": {},
   "outputs": [],
   "source": [
    "form = \"%d/%m/%Y %H:%M:%S\""
   ]
  },
  {
   "cell_type": "code",
   "execution_count": 12,
   "metadata": {},
   "outputs": [],
   "source": [
    "replacement = {\"curva_direita_agressiva\": \"Aggressive right turn\",\n",
    "               \"curva_esquerda_agressiva\": \"Aggressive left turn\",\n",
    "               \"evento_nao_agressivo\": \"Non-aggressive event\",\n",
    "               \"troca_faixa_direita_agressiva\": \"Aggressive right lane change\",\n",
    "               \"aceleracao_agressiva\": \"Aggressive acceleration\",\n",
    "               \"freada_agressiva\": \"Aggressive breaking\",\n",
    "               \"troca_faixa_esquerda_agressiva\": \"Aggressive left lane change\",\n",
    "               \"No label\": \"No label\"}"
   ]
  },
  {
   "cell_type": "code",
   "execution_count": 13,
   "metadata": {},
   "outputs": [],
   "source": [
    "def replace_event(row):\n",
    "    return replacement[row['event']]"
   ]
  },
  {
   "cell_type": "code",
   "execution_count": 14,
   "metadata": {},
   "outputs": [],
   "source": [
    "def make_labeled_data(folder_num):\n",
    "    data_label = pd.read_csv(os.path.join('data', 'data_init', str(folder_num), 'groundTruth.csv'))\n",
    "    data_acc = pd.read_csv(os.path.join('data', 'data_init', str(folder_num), 'aceleracaoLinear_terra.csv'))\n",
    "    data_gyro = pd.read_csv(os.path.join('data', 'data_init', str(folder_num), 'giroscopio_terra.csv'))\n",
    "    \n",
    "    data = data_acc.copy()\n",
    "    data.columns = [\"timestamp\", \"uptimeNanos\", \"x_accelerometer\", \"y_accelerometer\", \"z_accelerometer\"]\n",
    "    data['x_gyroscope'] = data_gyro[\"x\"]\n",
    "    data['y_gyroscope'] = data_gyro[\"y\"]\n",
    "    data['z_gyroscope'] = data_gyro[\"z\"]\n",
    "    init = datetime.strptime(data.loc[0]['timestamp'], form)\n",
    "    \n",
    "    def change_timestamp(row):\n",
    "        return (datetime.strptime(row['timestamp'], form) - init).seconds\n",
    "    \n",
    "    data['time_duration'] = data.apply(change_timestamp, axis=1)\n",
    "    \n",
    "    for index, row in data_label.iterrows():\n",
    "        start = row[' inicio']\n",
    "        finish = row[' fim']\n",
    "        data.loc[((data['time_duration'] >= start) & (data['time_duration'] < finish)), 'event'] = row['evento']\n",
    "    \n",
    "    # Uncomment for saving only labeled data\n",
    "#     data = data.dropna(subset=[\"event\"])\n",
    "    data['event'] = data['event'].fillna(\"No label\")\n",
    "    data['event'] = data.apply(replace_event, axis=1)\n",
    "    \n",
    "    return data"
   ]
  },
  {
   "cell_type": "code",
   "execution_count": 15,
   "metadata": {},
   "outputs": [
    {
     "data": {
      "text/plain": [
       "(64645, 10)"
      ]
     },
     "execution_count": 15,
     "metadata": {},
     "output_type": "execute_result"
    }
   ],
   "source": [
    "data = make_labeled_data(16)\n",
    "# data.to_csv(\"data/data_accelerometer_gyroscope_16.csv\", index=False)\n",
    "data.to_csv(\"data/data_accelerometer_gyroscope_16_all.csv\", index=False)\n",
    "data.shape"
   ]
  },
  {
   "cell_type": "code",
   "execution_count": 16,
   "metadata": {},
   "outputs": [
    {
     "data": {
      "text/plain": [
       "(20675, 10)"
      ]
     },
     "execution_count": 16,
     "metadata": {},
     "output_type": "execute_result"
    }
   ],
   "source": [
    "data = make_labeled_data(17)\n",
    "# data.to_csv(\"data/data_accelerometer_gyroscope_17.csv\", index=False)\n",
    "data.to_csv(\"data/data_accelerometer_gyroscope_17_all.csv\", index=False)\n",
    "data.shape"
   ]
  },
  {
   "cell_type": "code",
   "execution_count": 17,
   "metadata": {},
   "outputs": [
    {
     "data": {
      "text/plain": [
       "(30014, 10)"
      ]
     },
     "execution_count": 17,
     "metadata": {},
     "output_type": "execute_result"
    }
   ],
   "source": [
    "data = make_labeled_data(20)\n",
    "# data.to_csv(\"data/data_accelerometer_gyroscope_20.csv\", index=False)\n",
    "data.to_csv(\"data/data_accelerometer_gyroscope_20_all.csv\", index=False)\n",
    "data.shape"
   ]
  },
  {
   "cell_type": "code",
   "execution_count": 18,
   "metadata": {},
   "outputs": [
    {
     "data": {
      "text/plain": [
       "(41178, 10)"
      ]
     },
     "execution_count": 18,
     "metadata": {},
     "output_type": "execute_result"
    }
   ],
   "source": [
    "data = make_labeled_data(21)\n",
    "# data.to_csv(\"data/data_accelerometer_gyroscope_21.csv\", index=False)\n",
    "data.to_csv(\"data/data_accelerometer_gyroscope_21_all.csv\", index=False)\n",
    "data.shape"
   ]
  },
  {
   "cell_type": "code",
   "execution_count": null,
   "metadata": {},
   "outputs": [],
   "source": []
  },
  {
   "cell_type": "code",
   "execution_count": null,
   "metadata": {},
   "outputs": [],
   "source": []
  }
 ],
 "metadata": {
  "kernelspec": {
   "display_name": "Python 3",
   "language": "python",
   "name": "python3"
  },
  "language_info": {
   "codemirror_mode": {
    "name": "ipython",
    "version": 3
   },
   "file_extension": ".py",
   "mimetype": "text/x-python",
   "name": "python",
   "nbconvert_exporter": "python",
   "pygments_lexer": "ipython3",
   "version": "3.6.9"
  }
 },
 "nbformat": 4,
 "nbformat_minor": 4
}
